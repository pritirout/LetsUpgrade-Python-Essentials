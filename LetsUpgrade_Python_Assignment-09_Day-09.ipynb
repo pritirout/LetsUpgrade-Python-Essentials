{
 "cells": [
  {
   "cell_type": "markdown",
   "metadata": {},
   "source": [
    "# Question-no-1"
   ]
  },
  {
   "cell_type": "code",
   "execution_count": 2,
   "metadata": {},
   "outputs": [
    {
     "name": "stdout",
     "output_type": "stream",
     "text": [
      "Enter any number: 19\n",
      "19 is a prime number\n"
     ]
    }
   ],
   "source": [
    "#Write a python Function for finding is a given number prime or not\n",
    "number = int(input(\"Enter any number: \"))\n",
    "# prime number is always greater than 1\n",
    "if number > 1:\n",
    "    for i in range(2, number):\n",
    "        if (number % i) == 0:\n",
    "            print(number, \"is not a prime number\")\n",
    "            break\n",
    "    else:\n",
    "        print(number, \"is a prime number\")\n",
    "# if the entered number is less than or equal to 1\n",
    "# then it is not prime number\n",
    "else:\n",
    "    print(number, \"is not a prime number\")"
   ]
  },
  {
   "cell_type": "code",
   "execution_count": 4,
   "metadata": {},
   "outputs": [
    {
     "name": "stdout",
     "output_type": "stream",
     "text": [
      "11 is a prime number\n"
     ]
    }
   ],
   "source": [
    "# Python program to check if  \n",
    "# given number is prime or not \n",
    "  \n",
    "num = 11\n",
    "  \n",
    "# If given number is greater than 1 \n",
    "if num > 1: \n",
    "      \n",
    "   # Iterate from 2 to n / 2  \n",
    "   for i in range(2, num): \n",
    "         \n",
    "       # If num is divisible by any number between  \n",
    "       # 2 and n / 2, it is not prime  \n",
    "       if (num % i) == 0: \n",
    "           print(num, \"is not a prime number\") \n",
    "           break\n",
    "   else: \n",
    "       print(num, \"is a prime number\") \n",
    "  \n",
    "else: \n",
    "   print(num, \"is not a prime number\") "
   ]
  },
  {
   "cell_type": "markdown",
   "metadata": {},
   "source": [
    "# Question-no-2"
   ]
  },
  {
   "cell_type": "code",
   "execution_count": 1,
   "metadata": {},
   "outputs": [
    {
     "name": "stdout",
     "output_type": "stream",
     "text": [
      "Enter minimum value: 1\n",
      "Enter maximum value: 1000\n",
      "Armstrong numbers from 1 to 1000 are:\n",
      "1 2 3 4 5 6 7 8 9 153 370 371 407 "
     ]
    }
   ],
   "source": [
    "#program for returning armstrong numbers in between 1-1000 \n",
    "# Generate Armstrong numbers in interval\n",
    "# Function to count digit in number\n",
    "def count_digit(n):\n",
    "    count = 0\n",
    "    while n:\n",
    "        n //= 10\n",
    "        count += 1\n",
    "    return count\n",
    "# Function to check Armstrong\n",
    "def is_armstrong(n):\n",
    "    if n< 0:\n",
    "        return False\n",
    "    \n",
    "    number_copy = n\n",
    "    arm_sum = 0\n",
    "    digit = count_digit(n)\n",
    "    while n:\n",
    "        remainder = n%10\n",
    "        arm_sum += remainder**digit\n",
    "        n //= 10\n",
    "    return arm_sum == number_copy\n",
    "# Reading interval from user\n",
    "min_value = int(input('Enter minimum value: '))\n",
    "max_value = int(input('Enter maximum value: '))\n",
    "# Here min_vale & max_value are included\n",
    "print('Armstrong numbers from %d to %d are:' %(min_value, max_value))\n",
    "for i in range(min_value, max_value+1):\n",
    "    if is_armstrong(i):\n",
    "        print(i, end=' ')"
   ]
  }
 ],
 "metadata": {
  "kernelspec": {
   "display_name": "Python 3",
   "language": "python",
   "name": "python3"
  },
  "language_info": {
   "codemirror_mode": {
    "name": "ipython",
    "version": 3
   },
   "file_extension": ".py",
   "mimetype": "text/x-python",
   "name": "python",
   "nbconvert_exporter": "python",
   "pygments_lexer": "ipython3",
   "version": "3.8.3"
  }
 },
 "nbformat": 4,
 "nbformat_minor": 4
}
