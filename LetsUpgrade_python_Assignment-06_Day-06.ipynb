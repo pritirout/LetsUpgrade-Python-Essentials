{
 "cells": [
  {
   "cell_type": "markdown",
   "metadata": {},
   "source": [
    "# Question-no-1"
   ]
  },
  {
   "cell_type": "code",
   "execution_count": 7,
   "metadata": {},
   "outputs": [],
   "source": [
    "class Account:\n",
    "    def _init_(self):\n",
    "        self.balance=0\n",
    "        print('Your Account is Created.')\n",
    "    def deposit(self):\n",
    "        amount=int(input('Enter the amount to deposit:'))\n",
    "        self.balance+=amount\n",
    "        print('Your New Balance =%d' %self.balance)\n",
    "    def withdraw(self):\n",
    "        amount=int(input('Enter the amount to withdraw:'))\n",
    "        if(amount>self.balance):\n",
    "             print('Insufficient Balance!')\n",
    "        else:\n",
    "            self.balance-=amount\n",
    "            print('Your Remaining Balance =%d' %self.balance)\n",
    "    def enquiry(self):\n",
    "        print('Your Balance =%d' %self.balance)\n",
    "        account= Account()\n",
    "        account.deposit()\n",
    "        account.withdraw()\n",
    "        account.enquiry()"
   ]
  },
  {
   "cell_type": "markdown",
   "metadata": {},
   "source": [
    "# Question-no-2"
   ]
  },
  {
   "cell_type": "code",
   "execution_count": 17,
   "metadata": {},
   "outputs": [
    {
     "name": "stdout",
     "output_type": "stream",
     "text": [
      "Enter the radius: 4\n",
      "Enter the height: 12\n",
      "Enter the radius slant height: 8\n",
      "volume of the cone:  201.06192982974676\n",
      "surface area of the cone:  150.79644737231007\n"
     ]
    }
   ],
   "source": [
    "import math\n",
    "pi = math.pi\n",
    "\n",
    "def volume(r, h):\n",
    "    return (1/3)*pi*r*r*h\n",
    "def surfacearea(r, s):\n",
    "    return pi*r*s+pi*r*r\n",
    "r = float(input('Enter the radius: '))\n",
    "h = float(input('Enter the height: '))\n",
    "s = float(input('Enter the radius slant height: '))\n",
    "print('volume of the cone: ',volume(r, h))\n",
    "print('surface area of the cone: ',surfacearea(r, s))\n",
    "          \n",
    "   "
   ]
  }
 ],
 "metadata": {
  "kernelspec": {
   "display_name": "Python 3",
   "language": "python",
   "name": "python3"
  },
  "language_info": {
   "codemirror_mode": {
    "name": "ipython",
    "version": 3
   },
   "file_extension": ".py",
   "mimetype": "text/x-python",
   "name": "python",
   "nbconvert_exporter": "python",
   "pygments_lexer": "ipython3",
   "version": "3.8.3"
  }
 },
 "nbformat": 4,
 "nbformat_minor": 4
}
