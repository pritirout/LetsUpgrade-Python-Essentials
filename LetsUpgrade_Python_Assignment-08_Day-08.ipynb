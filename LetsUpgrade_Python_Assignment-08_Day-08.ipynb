{
 "cells": [
  {
   "cell_type": "markdown",
   "metadata": {},
   "source": [
    "# Question-no-1"
   ]
  },
  {
   "cell_type": "code",
   "execution_count": 7,
   "metadata": {},
   "outputs": [
    {
     "name": "stdout",
     "output_type": "stream",
     "text": [
      "Enter the terms10\n",
      "0 1 1 2 3 5 8 13 21 34 "
     ]
    }
   ],
   "source": [
    "# Enter number of terms needed                   \n",
    "a=int(input(\"Enter the terms\"))\n",
    "f=0                                         \n",
    "s=1                                         \n",
    "if a<=0:\n",
    "    print(\"The requested series is \",f)\n",
    "else:\n",
    "    print(f,s,end=\" \")\n",
    "    for x in range(2,a):\n",
    "        next=f+s                           \n",
    "        print(next,end=\" \")\n",
    "        f=s\n",
    "        s=next"
   ]
  },
  {
   "cell_type": "code",
   "execution_count": 17,
   "metadata": {},
   "outputs": [
    {
     "name": "stdout",
     "output_type": "stream",
     "text": [
      "4.44339739397401\n"
     ]
    }
   ],
   "source": [
    "import timeit\n",
    "def fib(n):\n",
    "    if n < 2:\n",
    "        return n\n",
    "    else:\n",
    "        return fib(n-1) + fib(n-2)\n",
    "t1 = timeit.Timer(\"fib(35)\", \"from __main__ import fib\")\n",
    "print (t1.timeit(1))"
   ]
  },
  {
   "cell_type": "code",
   "execution_count": 9,
   "metadata": {},
   "outputs": [
    {
     "name": "stdout",
     "output_type": "stream",
     "text": [
      "-2 4 0 -56 -7\n",
      "-1 4 2 -9 -2\n",
      "0 4 4 2 1\n",
      "1 4 6 13 2\n"
     ]
    }
   ],
   "source": [
    "def polynomial_creator(*coefficients):\n",
    "    \"\"\" coefficients are in the form a_n, ... a_1, a_0 \n",
    "    \"\"\"\n",
    "    def polynomial(x):\n",
    "        res = 0\n",
    "        for index, coeff in enumerate(coefficients[::-1]):\n",
    "            res += coeff * x** index\n",
    "        return res\n",
    "    return polynomial\n",
    "  \n",
    "p1 = polynomial_creator(4)\n",
    "p2 = polynomial_creator(2, 4)\n",
    "p3 = polynomial_creator(1, 8, -1, 3, 2)\n",
    "p4  = polynomial_creator(-1, 2, 1)\n",
    "for x in range(-2, 2, 1):\n",
    "    print(x, p1(x), p2(x), p3(x), p4(x))"
   ]
  },
  {
   "cell_type": "markdown",
   "metadata": {},
   "source": [
    "# Question-no-2"
   ]
  },
  {
   "cell_type": "code",
   "execution_count": 13,
   "metadata": {},
   "outputs": [
    {
     "name": "stdout",
     "output_type": "stream",
     "text": [
      "Error: can't find file or read data\n"
     ]
    }
   ],
   "source": [
    "#!/usr/bin/python\n",
    "try:\n",
    "    fh = open(\"testfile\", \"r\")\n",
    "    fh.write(\"This is my test file for exception handling!!\")\n",
    "except IOError:\n",
    "    print (\"Error: can\\'t find file or read data\")\n",
    "else:\n",
    "    print (\"Written content in the file successfully\")"
   ]
  },
  {
   "cell_type": "code",
   "execution_count": 14,
   "metadata": {},
   "outputs": [
    {
     "name": "stdout",
     "output_type": "stream",
     "text": [
      "Going to close the file\n"
     ]
    }
   ],
   "source": [
    "#!/usr/bin/python\n",
    "try:\n",
    "    fh = open(\"testfile\", \"w\")\n",
    "    try:\n",
    "        fh.write(\"This is my test file for exception handling!!\")\n",
    "    finally:\n",
    "        print( \"Going to close the file\")\n",
    "        fh.close()\n",
    "except IOError:\n",
    "        print( \"Error: can\\'t find file or read data\")"
   ]
  }
 ],
 "metadata": {
  "kernelspec": {
   "display_name": "Python 3",
   "language": "python",
   "name": "python3"
  },
  "language_info": {
   "codemirror_mode": {
    "name": "ipython",
    "version": 3
   },
   "file_extension": ".py",
   "mimetype": "text/x-python",
   "name": "python",
   "nbconvert_exporter": "python",
   "pygments_lexer": "ipython3",
   "version": "3.8.3"
  }
 },
 "nbformat": 4,
 "nbformat_minor": 4
}
